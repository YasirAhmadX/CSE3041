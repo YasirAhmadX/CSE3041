{
 "cells": [
  {
   "cell_type": "markdown",
   "id": "e8cf71a2",
   "metadata": {},
   "source": [
    "# Practice questions 22MIA1064 (Yasir Ahmad)"
   ]
  },
  {
   "cell_type": "code",
   "execution_count": 6,
   "id": "8f011b7b",
   "metadata": {},
   "outputs": [],
   "source": [
    "import numpy as np"
   ]
  },
  {
   "cell_type": "markdown",
   "id": "3ca446a6",
   "metadata": {},
   "source": [
    "## Question 1: Solve given equations  \n",
    "> 4x + 3y + 2z = 25  \n",
    "> -2x + 2y +3z = -10  \n",
    "> 3x - 5y + 2z = -4  "
   ]
  },
  {
   "cell_type": "code",
   "execution_count": 17,
   "id": "84418817",
   "metadata": {},
   "outputs": [
    {
     "name": "stdout",
     "output_type": "stream",
     "text": [
      "[ 5.  3. -2.]\n"
     ]
    }
   ],
   "source": [
    "A = np.array([[4,3,2],[-2,2,3],[3,-5,2]])\n",
    "B = np.array([25,-10,-4])\n",
    "X = np.linalg.solve(A,B)\n",
    "print(X)"
   ]
  },
  {
   "cell_type": "markdown",
   "id": "3640ae20",
   "metadata": {},
   "source": [
    "## Question 2: Implement a function to calculate rank,determinant and inverse of sq matrix"
   ]
  },
  {
   "cell_type": "code",
   "execution_count": 12,
   "id": "f9e68f52",
   "metadata": {},
   "outputs": [],
   "source": [
    "def calc(A):\n",
    "    rnk = np.linalg.matrix_rank(A)\n",
    "    det = np.linalg.det(A)\n",
    "    inv = np.linalg.inv(A)\n",
    "    \n",
    "    return rnk,det,inv"
   ]
  },
  {
   "cell_type": "code",
   "execution_count": 7,
   "id": "ef392541",
   "metadata": {},
   "outputs": [],
   "source": [
    "A = np.array([[3,4,2],[6,2,1],[9,7,8]])"
   ]
  },
  {
   "cell_type": "code",
   "execution_count": 8,
   "id": "9123820d",
   "metadata": {},
   "outputs": [
    {
     "data": {
      "text/plain": [
       "array([[3, 4, 2],\n",
       "       [6, 2, 1],\n",
       "       [9, 7, 8]])"
      ]
     },
     "execution_count": 8,
     "metadata": {},
     "output_type": "execute_result"
    }
   ],
   "source": [
    "A"
   ]
  },
  {
   "cell_type": "code",
   "execution_count": 13,
   "id": "acc05ea1",
   "metadata": {},
   "outputs": [
    {
     "data": {
      "text/plain": [
       "(3,\n",
       " -80.99999999999996,\n",
       " array([[-1.11111111e-01,  2.22222222e-01,  3.08395285e-18],\n",
       "        [ 4.81481481e-01, -7.40740741e-02, -1.11111111e-01],\n",
       "        [-2.96296296e-01, -1.85185185e-01,  2.22222222e-01]]))"
      ]
     },
     "execution_count": 13,
     "metadata": {},
     "output_type": "execute_result"
    }
   ],
   "source": [
    "calc(A)"
   ]
  },
  {
   "cell_type": "code",
   "execution_count": null,
   "id": "2e36372e",
   "metadata": {},
   "outputs": [],
   "source": []
  }
 ],
 "metadata": {
  "kernelspec": {
   "display_name": "Python 3 (ipykernel)",
   "language": "python",
   "name": "python3"
  },
  "language_info": {
   "codemirror_mode": {
    "name": "ipython",
    "version": 3
   },
   "file_extension": ".py",
   "mimetype": "text/x-python",
   "name": "python",
   "nbconvert_exporter": "python",
   "pygments_lexer": "ipython3",
   "version": "3.8.10"
  }
 },
 "nbformat": 4,
 "nbformat_minor": 5
}
