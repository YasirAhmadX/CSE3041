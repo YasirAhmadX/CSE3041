{
 "cells": [
  {
   "cell_type": "markdown",
   "id": "11ba18c0",
   "metadata": {},
   "source": [
    "# Linear Algebra in Numpy  (22MIA1064 Y@sir Ahmad)\n",
    "Linear algebra related operations in Python using Numpy\n",
    "can help calculate rank,determinant\n"
   ]
  },
  {
   "cell_type": "code",
   "execution_count": 1,
   "id": "0f3e7284",
   "metadata": {},
   "outputs": [],
   "source": [
    "import numpy as np"
   ]
  },
  {
   "cell_type": "markdown",
   "id": "abb4062f",
   "metadata": {},
   "source": [
    "* Import `np.linalg` module from numpy package"
   ]
  },
  {
   "cell_type": "code",
   "execution_count": null,
   "id": "e7d877b0",
   "metadata": {},
   "outputs": [],
   "source": [
    "import np.lin"
   ]
  },
  {
   "cell_type": "code",
   "execution_count": 2,
   "id": "09e24a29",
   "metadata": {},
   "outputs": [],
   "source": [
    "#np.dot(a,b)\n",
    "#np.vdot(a,b)\n",
    "a = np.array([13,21,45])\n",
    "b = np.array([3,6,5])\n"
   ]
  },
  {
   "cell_type": "code",
   "execution_count": 3,
   "id": "9188ea98",
   "metadata": {},
   "outputs": [
    {
     "data": {
      "text/plain": [
       "390"
      ]
     },
     "execution_count": 3,
     "metadata": {},
     "output_type": "execute_result"
    }
   ],
   "source": [
    "a.dot(b)"
   ]
  },
  {
   "cell_type": "code",
   "execution_count": 4,
   "id": "9d54ff74",
   "metadata": {},
   "outputs": [
    {
     "data": {
      "text/plain": [
       "390"
      ]
     },
     "execution_count": 4,
     "metadata": {},
     "output_type": "execute_result"
    }
   ],
   "source": [
    "np.dot(a,b)"
   ]
  },
  {
   "cell_type": "code",
   "execution_count": 5,
   "id": "474ef387",
   "metadata": {},
   "outputs": [
    {
     "data": {
      "text/plain": [
       "390"
      ]
     },
     "execution_count": 5,
     "metadata": {},
     "output_type": "execute_result"
    }
   ],
   "source": [
    "np.vdot(a,b)"
   ]
  },
  {
   "cell_type": "code",
   "execution_count": 7,
   "id": "d8ab2538",
   "metadata": {},
   "outputs": [
    {
     "data": {
      "text/plain": [
       "(3,)"
      ]
     },
     "execution_count": 7,
     "metadata": {},
     "output_type": "execute_result"
    }
   ],
   "source": [
    "a.shape"
   ]
  },
  {
   "cell_type": "code",
   "execution_count": 8,
   "id": "54c9bd7d",
   "metadata": {},
   "outputs": [],
   "source": [
    "a = np.array([[1,2],[2,3]])\n",
    "b = np.array([[3,4],[5,6]])"
   ]
  },
  {
   "cell_type": "code",
   "execution_count": 9,
   "id": "688269ce",
   "metadata": {},
   "outputs": [
    {
     "data": {
      "text/plain": [
       "array([[13, 16],\n",
       "       [21, 26]])"
      ]
     },
     "execution_count": 9,
     "metadata": {},
     "output_type": "execute_result"
    }
   ],
   "source": [
    "a.dot(b)"
   ]
  },
  {
   "cell_type": "code",
   "execution_count": 10,
   "id": "d3dbba42",
   "metadata": {},
   "outputs": [
    {
     "data": {
      "text/plain": [
       "array([[13, 16],\n",
       "       [21, 26]])"
      ]
     },
     "execution_count": 10,
     "metadata": {},
     "output_type": "execute_result"
    }
   ],
   "source": [
    "np.dot(a,b)"
   ]
  },
  {
   "cell_type": "code",
   "execution_count": 11,
   "id": "c3bfd23d",
   "metadata": {},
   "outputs": [
    {
     "data": {
      "text/plain": [
       "39"
      ]
     },
     "execution_count": 11,
     "metadata": {},
     "output_type": "execute_result"
    }
   ],
   "source": [
    "np.vdot(a,b)"
   ]
  },
  {
   "cell_type": "code",
   "execution_count": 12,
   "id": "3f1b9577",
   "metadata": {},
   "outputs": [
    {
     "name": "stdout",
     "output_type": "stream",
     "text": [
      "Help on function vdot in module numpy:\n",
      "\n",
      "vdot(...)\n",
      "    vdot(a, b, /)\n",
      "    \n",
      "    Return the dot product of two vectors.\n",
      "    \n",
      "    The vdot(`a`, `b`) function handles complex numbers differently than\n",
      "    dot(`a`, `b`).  If the first argument is complex the complex conjugate\n",
      "    of the first argument is used for the calculation of the dot product.\n",
      "    \n",
      "    Note that `vdot` handles multidimensional arrays differently than `dot`:\n",
      "    it does *not* perform a matrix product, but flattens input arguments\n",
      "    to 1-D vectors first. Consequently, it should only be used for vectors.\n",
      "    \n",
      "    Parameters\n",
      "    ----------\n",
      "    a : array_like\n",
      "        If `a` is complex the complex conjugate is taken before calculation\n",
      "        of the dot product.\n",
      "    b : array_like\n",
      "        Second argument to the dot product.\n",
      "    \n",
      "    Returns\n",
      "    -------\n",
      "    output : ndarray\n",
      "        Dot product of `a` and `b`.  Can be an int, float, or\n",
      "        complex depending on the types of `a` and `b`.\n",
      "    \n",
      "    See Also\n",
      "    --------\n",
      "    dot : Return the dot product without using the complex conjugate of the\n",
      "          first argument.\n",
      "    \n",
      "    Examples\n",
      "    --------\n",
      "    >>> a = np.array([1+2j,3+4j])\n",
      "    >>> b = np.array([5+6j,7+8j])\n",
      "    >>> np.vdot(a, b)\n",
      "    (70-8j)\n",
      "    >>> np.vdot(b, a)\n",
      "    (70+8j)\n",
      "    \n",
      "    Note that higher-dimensional arrays are flattened!\n",
      "    \n",
      "    >>> a = np.array([[1, 4], [5, 6]])\n",
      "    >>> b = np.array([[4, 1], [2, 2]])\n",
      "    >>> np.vdot(a, b)\n",
      "    30\n",
      "    >>> np.vdot(b, a)\n",
      "    30\n",
      "    >>> 1*4 + 4*1 + 5*2 + 6*2\n",
      "    30\n",
      "\n"
     ]
    }
   ],
   "source": [
    "help(np.vdot)"
   ]
  },
  {
   "cell_type": "markdown",
   "id": "db985776",
   "metadata": {},
   "source": [
    "## Q1 solve linear eq \n",
    "solve given linear eq\n",
    "\n",
    "> 4**x** + 3**y** = 20  \n",
    "> -5**x** + 9**y** = 26   \n",
    "\n"
   ]
  },
  {
   "cell_type": "markdown",
   "id": "04fff5ab",
   "metadata": {},
   "source": [
    "> # Solution  \n",
    "Represent in form Ax = B  \n",
    "So, A = [4,3][-5,9]  \n",
    "    B = [20][26]"
   ]
  },
  {
   "cell_type": "code",
   "execution_count": 24,
   "id": "259f93b7",
   "metadata": {},
   "outputs": [],
   "source": [
    "A = np.array([[4,3],[-5,9]])\n",
    "B = np.array([20,26])\n",
    "Ai = np.linalg.inv(A) "
   ]
  },
  {
   "cell_type": "code",
   "execution_count": 23,
   "id": "81af189f",
   "metadata": {},
   "outputs": [
    {
     "data": {
      "text/plain": [
       "array([2., 4.])"
      ]
     },
     "execution_count": 23,
     "metadata": {},
     "output_type": "execute_result"
    }
   ],
   "source": [
    "X = np.dot(Ai,B)"
   ]
  },
  {
   "cell_type": "markdown",
   "id": "8de63a7a",
   "metadata": {},
   "source": [
    "### SOLVE  \n",
    "Solving using `np.linalg.solve` function.  "
   ]
  },
  {
   "cell_type": "code",
   "execution_count": 28,
   "id": "2833d970",
   "metadata": {},
   "outputs": [],
   "source": [
    "X = np.linalg.solve(A,B)"
   ]
  },
  {
   "cell_type": "code",
   "execution_count": 30,
   "id": "fcd62b74",
   "metadata": {},
   "outputs": [
    {
     "data": {
      "text/plain": [
       "array([2., 4.])"
      ]
     },
     "execution_count": 30,
     "metadata": {},
     "output_type": "execute_result"
    }
   ],
   "source": [
    "X"
   ]
  },
  {
   "cell_type": "markdown",
   "id": "50622df1",
   "metadata": {},
   "source": [
    "## Generate matrices  \n",
    "* Identity Matrix\n",
    "* Diagonal Matrix\n",
    "* ones\n",
    "* zeroes\n"
   ]
  },
  {
   "cell_type": "markdown",
   "id": "9e69de4c",
   "metadata": {},
   "source": [
    "## Rank, Trace and Determinant"
   ]
  },
  {
   "cell_type": "markdown",
   "id": "1fa14bcb",
   "metadata": {},
   "source": [
    "* **Rank**  R space"
   ]
  },
  {
   "cell_type": "code",
   "execution_count": 31,
   "id": "45645552",
   "metadata": {},
   "outputs": [
    {
     "data": {
      "text/plain": [
       "2"
      ]
     },
     "execution_count": 31,
     "metadata": {},
     "output_type": "execute_result"
    }
   ],
   "source": [
    "np.linalg.matrix_rank(A)"
   ]
  },
  {
   "cell_type": "markdown",
   "id": "ea71cf21",
   "metadata": {},
   "source": [
    "* **Trace** Sum of diagonal elements"
   ]
  },
  {
   "cell_type": "code",
   "execution_count": 36,
   "id": "092b78f3",
   "metadata": {},
   "outputs": [
    {
     "data": {
      "text/plain": [
       "13"
      ]
     },
     "execution_count": 36,
     "metadata": {},
     "output_type": "execute_result"
    }
   ],
   "source": [
    "A.trace()"
   ]
  },
  {
   "cell_type": "markdown",
   "id": "a621b51b",
   "metadata": {},
   "source": [
    "* **Determinant** Calculates determinant of the matrix"
   ]
  },
  {
   "cell_type": "code",
   "execution_count": 33,
   "id": "7e08d5b9",
   "metadata": {},
   "outputs": [
    {
     "data": {
      "text/plain": [
       "50.99999999999997"
      ]
     },
     "execution_count": 33,
     "metadata": {},
     "output_type": "execute_result"
    }
   ],
   "source": [
    "np.linalg.det(A)"
   ]
  },
  {
   "cell_type": "markdown",
   "id": "91bdbfd4",
   "metadata": {},
   "source": [
    "* **Inverse** Calculate inverse of a matrix"
   ]
  },
  {
   "cell_type": "code",
   "execution_count": 39,
   "id": "2ad657f5",
   "metadata": {},
   "outputs": [
    {
     "data": {
      "text/plain": [
       "array([[ 0.17647059, -0.05882353],\n",
       "       [ 0.09803922,  0.07843137]])"
      ]
     },
     "execution_count": 39,
     "metadata": {},
     "output_type": "execute_result"
    }
   ],
   "source": [
    "np.linalg.inv(A) "
   ]
  },
  {
   "cell_type": "markdown",
   "id": "96cc36aa",
   "metadata": {},
   "source": [
    "* **Power** Raise matrix to power n"
   ]
  },
  {
   "cell_type": "code",
   "execution_count": 38,
   "id": "da6dc602",
   "metadata": {},
   "outputs": [
    {
     "data": {
      "text/plain": [
       "array([[-191,  354],\n",
       "       [-590,  399]])"
      ]
     },
     "execution_count": 38,
     "metadata": {},
     "output_type": "execute_result"
    }
   ],
   "source": [
    "np.linalg.matrix_power(A,3\n",
    "                      )"
   ]
  },
  {
   "cell_type": "markdown",
   "id": "c03e8357",
   "metadata": {},
   "source": [
    "# Eigen Value and Functions  \n",
    "\n",
    "* `np.linalg.eig(A)` for eigen value,eigen vector of A of Rspace  \n"
   ]
  },
  {
   "cell_type": "code",
   "execution_count": 43,
   "id": "30f25657",
   "metadata": {},
   "outputs": [
    {
     "data": {
      "text/plain": [
       "(array([6.5+2.95803989j, 6.5-2.95803989j]),\n",
       " array([[0.39528471-0.46770717j, 0.39528471+0.46770717j],\n",
       "        [0.79056942+0.j        , 0.79056942-0.j        ]]))"
      ]
     },
     "execution_count": 43,
     "metadata": {},
     "output_type": "execute_result"
    }
   ],
   "source": [
    "np.linalg.eig(A)"
   ]
  },
  {
   "cell_type": "markdown",
   "id": "1a99f79a",
   "metadata": {},
   "source": [
    "* `np.linalg.eigh(A)` for eigen value,eigen vector for A of Zspace"
   ]
  },
  {
   "cell_type": "code",
   "execution_count": 44,
   "id": "df1efeb2",
   "metadata": {},
   "outputs": [],
   "source": [
    "A = np.array([[1,-2j],[2j,5+2j]])"
   ]
  },
  {
   "cell_type": "code",
   "execution_count": 45,
   "id": "d3fc7381",
   "metadata": {},
   "outputs": [
    {
     "data": {
      "text/plain": [
       "(array([0.17157288, 5.82842712]),\n",
       " array([[-0.92387953+0.j        , -0.38268343+0.j        ],\n",
       "        [ 0.        +0.38268343j,  0.        -0.92387953j]]))"
      ]
     },
     "execution_count": 45,
     "metadata": {},
     "output_type": "execute_result"
    }
   ],
   "source": [
    "np.linalg.eigh(A)"
   ]
  },
  {
   "cell_type": "code",
   "execution_count": 46,
   "id": "b8eee927",
   "metadata": {},
   "outputs": [],
   "source": [
    "c,d = np.linalg.eigh(A)"
   ]
  },
  {
   "cell_type": "code",
   "execution_count": 47,
   "id": "62f2c0da",
   "metadata": {},
   "outputs": [
    {
     "name": "stdout",
     "output_type": "stream",
     "text": [
      "Eigen value: [0.17157288 5.82842712]\n",
      "Eigen vector: [[-0.92387953+0.j         -0.38268343+0.j        ]\n",
      " [ 0.        +0.38268343j  0.        -0.92387953j]]\n"
     ]
    }
   ],
   "source": [
    "print(\"Eigen value:\",c)\n",
    "print(\"Eigen vector:\",d)"
   ]
  },
  {
   "cell_type": "markdown",
   "id": "32cc16e0",
   "metadata": {},
   "source": [
    "## Ravel Functions  \n",
    "\n",
    "Flattens the higher dimensional arrays into 1-D arrays\n"
   ]
  },
  {
   "cell_type": "code",
   "execution_count": 56,
   "id": "d3c406b5",
   "metadata": {},
   "outputs": [
    {
     "data": {
      "text/plain": [
       "array([[ 1.+0.j, -0.-2.j],\n",
       "       [ 0.+2.j,  5.+2.j]])"
      ]
     },
     "execution_count": 56,
     "metadata": {},
     "output_type": "execute_result"
    }
   ],
   "source": [
    "A"
   ]
  },
  {
   "cell_type": "code",
   "execution_count": 53,
   "id": "e667bacf",
   "metadata": {},
   "outputs": [
    {
     "data": {
      "text/plain": [
       "array([ 1.+0.j, -0.-2.j,  0.+2.j,  5.+2.j])"
      ]
     },
     "execution_count": 53,
     "metadata": {},
     "output_type": "execute_result"
    }
   ],
   "source": [
    "np.ravel(A) #row-wise"
   ]
  },
  {
   "cell_type": "code",
   "execution_count": 54,
   "id": "b8322d65",
   "metadata": {},
   "outputs": [
    {
     "data": {
      "text/plain": [
       "array([ 1.+0.j,  0.+2.j, -0.-2.j,  5.+2.j])"
      ]
     },
     "execution_count": 54,
     "metadata": {},
     "output_type": "execute_result"
    }
   ],
   "source": [
    "np.ravel(A,order='F') #column-wise"
   ]
  },
  {
   "cell_type": "markdown",
   "id": "0d47b61d",
   "metadata": {},
   "source": []
  }
 ],
 "metadata": {
  "kernelspec": {
   "display_name": "Python 3 (ipykernel)",
   "language": "python",
   "name": "python3"
  },
  "language_info": {
   "codemirror_mode": {
    "name": "ipython",
    "version": 3
   },
   "file_extension": ".py",
   "mimetype": "text/x-python",
   "name": "python",
   "nbconvert_exporter": "python",
   "pygments_lexer": "ipython3",
   "version": "3.8.10"
  }
 },
 "nbformat": 4,
 "nbformat_minor": 5
}
