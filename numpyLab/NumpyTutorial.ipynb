{
  "metadata": {
    "language_info": {
      "codemirror_mode": {
        "name": "python",
        "version": 3
      },
      "file_extension": ".py",
      "mimetype": "text/x-python",
      "name": "python",
      "nbconvert_exporter": "python",
      "pygments_lexer": "ipython3",
      "version": "3.8"
    },
    "kernelspec": {
      "name": "python",
      "display_name": "Python (Pyodide)",
      "language": "python"
    }
  },
  "nbformat_minor": 4,
  "nbformat": 4,
  "cells": [
    {
      "cell_type": "code",
      "source": "import numpy as np",
      "metadata": {
        "trusted": true
      },
      "execution_count": 3,
      "outputs": []
    },
    {
      "cell_type": "code",
      "source": "#Creating a rank 1 Array\narr = np.array([1,2,3])\nprint(\"Array: \",arr)",
      "metadata": {
        "trusted": true
      },
      "execution_count": 6,
      "outputs": [
        {
          "name": "stdout",
          "text": "Array:  [1 2 3]\n",
          "output_type": "stream"
        }
      ]
    },
    {
      "cell_type": "code",
      "source": "#Creating array of rank 2\narr = np.array([[1,2,3],[4,5,6]])\nprint(\"Array :\\n\",arr)",
      "metadata": {
        "trusted": true
      },
      "execution_count": 8,
      "outputs": [
        {
          "name": "stdout",
          "text": "Array :\n [[1 2 3]\n [4 5 6]]\n",
          "output_type": "stream"
        }
      ]
    },
    {
      "cell_type": "code",
      "source": "#type of array\nprint(\"Array is of type: \", type(arr))",
      "metadata": {
        "trusted": true
      },
      "execution_count": 55,
      "outputs": [
        {
          "name": "stdout",
          "text": "Array is of type:  <class 'numpy.ndarray'>\n",
          "output_type": "stream"
        }
      ]
    },
    {
      "cell_type": "code",
      "source": "# Printing array dimensions (axes)\nprint(\"No. of dimensions: \", arr.ndim)",
      "metadata": {
        "trusted": true
      },
      "execution_count": 56,
      "outputs": [
        {
          "name": "stdout",
          "text": "No. of dimensions:  1\n",
          "output_type": "stream"
        }
      ]
    },
    {
      "cell_type": "code",
      "source": "# Printing shape of array\nprint(\"Shape of array: \", arr.shape)\n # Printing size (total number of elements) of array\nprint(\"Size of array: \", arr.size)\n # Printing type of elements in array\nprint(\"Array stores elements of type: \", arr.dtype)",
      "metadata": {
        "trusted": true
      },
      "execution_count": 57,
      "outputs": [
        {
          "name": "stdout",
          "text": "Shape of array:  (5,)\nSize of array:  5\nArray stores elements of type:  int32\n",
          "output_type": "stream"
        }
      ]
    },
    {
      "cell_type": "code",
      "source": "#arange\nf = np.arange(0,30,5)\nprint(\"A sequential arrays with steps 5:\\n\",f)",
      "metadata": {
        "trusted": true
      },
      "execution_count": 9,
      "outputs": [
        {
          "name": "stdout",
          "text": "A sequential arrays with steps 5:\n [ 0  5 10 15 20 25]\n",
          "output_type": "stream"
        }
      ]
    },
    {
      "cell_type": "code",
      "source": "#linspace\ng = np.linspace(0,5,10)\nprint(\"A sequential array :\\n\",g)",
      "metadata": {
        "trusted": true
      },
      "execution_count": 10,
      "outputs": [
        {
          "name": "stdout",
          "text": "A sequential array :\n [0.         0.55555556 1.11111111 1.66666667 2.22222222 2.77777778\n 3.33333333 3.88888889 4.44444444 5.        ]\n",
          "output_type": "stream"
        }
      ]
    },
    {
      "cell_type": "code",
      "source": "#Reshaping\narr = np.array([[1,2,3,4],[5,6,7,8],[4,3,2,1]])\nprint(\"Array shape:\",arr.shape)\nnewarr = arr.reshape(2,2,3)\nprint(\"Original Array:\\n\",arr)\nprint(\"Array:\\n\",newarr)\nprint(\"Array shape:\",newarr.shape)",
      "metadata": {
        "trusted": true
      },
      "execution_count": 73,
      "outputs": [
        {
          "name": "stdout",
          "text": "Array shape: (3, 4)\nOriginal Array:\n [[1 2 3 4]\n [5 6 7 8]\n [4 3 2 1]]\nArray:\n [[[1 2 3]\n  [4 5 6]]\n\n [[7 8 4]\n  [3 2 1]]]\nArray shape: (2, 2, 3)\n",
          "output_type": "stream"
        }
      ]
    },
    {
      "cell_type": "code",
      "source": "#indexing\n#arr[i,j,k]\narr = np.array([[1,2,3,4,5], [6,7,8,9,10]])\nprint('2nd element on 1st row: ', arr[0, 1])",
      "metadata": {
        "trusted": true
      },
      "execution_count": 61,
      "outputs": [
        {
          "name": "stdout",
          "text": "2nd element on 1st row:  2\n",
          "output_type": "stream"
        }
      ]
    },
    {
      "cell_type": "code",
      "source": "#slicing\n#arr[start:stop:steps]\narr = np.array([1, 2, 3, 4, 5, 6, 7])\nprint(arr[1:5:2])\narr = np.array([[1, 2, 3, 4, 5], [6, 7, 8, 9, 10]])\nprint(arr[0:2, 1:4])",
      "metadata": {
        "trusted": true
      },
      "execution_count": 64,
      "outputs": [
        {
          "name": "stdout",
          "text": "[2 4]\n[[2 3 4]\n [7 8 9]]\n",
          "output_type": "stream"
        }
      ]
    },
    {
      "cell_type": "code",
      "source": "#data types\n#arr.dtype\n#astype() - to convert the datatype\n\"\"\" \ni - integer\nf - float\nc - complex\ns - string\n\"\"\"\n# Creating array from list with type float\na = np.array([[1, 2, 4], [5, 8, 7]], dtype = 'float')\nprint (\"Array created using passed list, type float:\\n\", a)\n# Creating array from tuple\nb = a.astype(\"i\")\nprint (\"Array type int:\\n\", b)",
      "metadata": {
        "trusted": true
      },
      "execution_count": 60,
      "outputs": [
        {
          "name": "stdout",
          "text": "Array created using passed list, type float:\n [[1. 2. 4.]\n [5. 8. 7.]]\nArray type int:\n [[1 2 4]\n [5 8 7]]\n",
          "output_type": "stream"
        }
      ]
    },
    {
      "cell_type": "code",
      "source": "#view\narr = np.array([1,2,3,4])\nx = arr.view()\narr[0] = 42\nprint(\"Original:\",arr)\nprint(\"View:\",x)",
      "metadata": {
        "trusted": true
      },
      "execution_count": 33,
      "outputs": [
        {
          "name": "stdout",
          "text": "Original: [42  2  3  4]\nView: [42  2  3  4]\n",
          "output_type": "stream"
        }
      ]
    },
    {
      "cell_type": "code",
      "source": "#copy\nx = arr.copy()\narr[0] = 1\nprint(\"Original:\",arr)\nprint(\"View:\",x)",
      "metadata": {
        "trusted": true
      },
      "execution_count": 34,
      "outputs": [
        {
          "name": "stdout",
          "text": "Original: [1 2 3 4]\nView: [42  2  3  4]\n",
          "output_type": "stream"
        }
      ]
    },
    {
      "cell_type": "code",
      "source": "#iteration\narr = np.array([[1, 2, 3], [4, 5, 6]])\nfor x in arr:\n print(x)\n",
      "metadata": {
        "trusted": true
      },
      "execution_count": 75,
      "outputs": [
        {
          "name": "stdout",
          "text": "[1 2 3]\n[4 5 6]\n",
          "output_type": "stream"
        }
      ]
    },
    {
      "cell_type": "code",
      "source": "#concatenate\narr1 = np.array([[1, 2], [3, 4]])\narr2 = np.array([[5, 6], [7, 8]])\narr = np.concatenate((arr1, arr2), axis=1)\nprint(arr,\"axis 1\")\narr = np.concatenate((arr1, arr2), axis=0)\nprint(arr,\"axis 0\")",
      "metadata": {
        "trusted": true
      },
      "execution_count": 76,
      "outputs": [
        {
          "name": "stdout",
          "text": "[[1 2 5 6]\n [3 4 7 8]] axis 1\n[[1 2]\n [3 4]\n [5 6]\n [7 8]] axis 0\n",
          "output_type": "stream"
        }
      ]
    },
    {
      "cell_type": "code",
      "source": "#split\narr = np.array([1, 2, 3, 4, 5, 6])\nnewarr = np.array_split(arr, 3)\nprint(newarr)",
      "metadata": {
        "trusted": true
      },
      "execution_count": 77,
      "outputs": [
        {
          "name": "stdout",
          "text": "[array([1, 2]), array([3, 4]), array([5, 6])]\n",
          "output_type": "stream"
        }
      ]
    },
    {
      "cell_type": "code",
      "source": "#Searching\n#where\nx = np.where(arr==4)\nprint(x)",
      "metadata": {
        "trusted": true
      },
      "execution_count": 35,
      "outputs": [
        {
          "name": "stdout",
          "text": "(array([3], dtype=int32),)\n",
          "output_type": "stream"
        }
      ]
    },
    {
      "cell_type": "code",
      "source": "#searchsorted\narr = np.array([9,8,3,6])\nx = np.searchsorted(arr,7)\nprint(x)",
      "metadata": {
        "trusted": true
      },
      "execution_count": 36,
      "outputs": [
        {
          "name": "stdout",
          "text": "4\n",
          "output_type": "stream"
        }
      ]
    },
    {
      "cell_type": "code",
      "source": "#sort\nprint(arr)\nprint(np.sort(arr))",
      "metadata": {
        "trusted": true
      },
      "execution_count": 39,
      "outputs": [
        {
          "name": "stdout",
          "text": "[9 8 3 6]\n[3 6 8 9]\n",
          "output_type": "stream"
        }
      ]
    },
    {
      "cell_type": "markdown",
      "source": "## Basic Array Operations\n",
      "metadata": {}
    },
    {
      "cell_type": "markdown",
      "source": "* ### Unary Operators\n\n",
      "metadata": {}
    },
    {
      "cell_type": "code",
      "source": "#basic array operations\narr = np.array([[2,3],[6,7]])\nprint(\"Array:\",arr)\n#increment\nprint(\"Increment:\",arr+1)\n#decrement\nprint(\"Decrement:\",arr-1)\n#agg function\nprint (\"Largest element is:\", arr.max())\nprint (\"Row-wise maximum elements:\",arr.max(axis = 1))\n# sum of array elements\nprint (\"Sum of all array elements:\",arr.sum())\n# cumulative sum along each row\nprint (\"Cumulative sum along each row:\\n\",arr.cumsum(axis = 1))\n# cumulative sum along each column\nprint (\"Cumulative sum along each column:\\n\",arr.cumsum(axis = 0))",
      "metadata": {
        "trusted": true
      },
      "execution_count": 80,
      "outputs": [
        {
          "name": "stdout",
          "text": "Array: [[2 3]\n [6 7]]\nIncrement: [[3 4]\n [7 8]]\nDecrement: [[1 2]\n [5 6]]\nLargest element is: 7\nRow-wise maximum elements: [3 7]\nSum of all array elements: 18\nCumulative sum along each row:\n [[ 2  5]\n [ 6 13]]\nCumulative sum along each column:\n [[ 2  3]\n [ 8 10]]\n",
          "output_type": "stream"
        }
      ]
    },
    {
      "cell_type": "markdown",
      "source": "* ### Binary Operators",
      "metadata": {}
    },
    {
      "cell_type": "code",
      "source": "a = np.array([[2,3],[1,7]])\nb = np.array([[5,6],[4,1]])\nprint(\"Original Arrays:\\n\",\"A:\\n\",a,\"\\nB:\\n\",b)\n#add arrays\nprint(\"Array sum:\\n\",a+b)\n#diff arrays\nprint(\"Arrays diff:\\n\",a-b)\n#multiplication (element wise)\nprint(\"Arrays multiplication:\\n\",a*b)",
      "metadata": {
        "tags": [],
        "trusted": true
      },
      "execution_count": 50,
      "outputs": [
        {
          "name": "stdout",
          "text": "Original Arrays:\n A:\n [[2 3]\n [1 7]] \nB:\n [[5 6]\n [4 1]]\nArray sum:\n [[7 9]\n [5 8]]\nArrays diff:\n [[-3 -3]\n [-3  6]]\nArrays multiplication:\n [[10 18]\n [ 4  7]]\n",
          "output_type": "stream"
        }
      ]
    },
    {
      "cell_type": "code",
      "source": "#Dot product\nprint(\"Array dot product:\\n\",a.dot(b))",
      "metadata": {
        "trusted": true
      },
      "execution_count": 51,
      "outputs": [
        {
          "name": "stdout",
          "text": "Array dot product:\n [[22 15]\n [33 13]]\n",
          "output_type": "stream"
        }
      ]
    },
    {
      "cell_type": "markdown",
      "source": "* ### Universal Functions\n",
      "metadata": {}
    },
    {
      "cell_type": "code",
      "source": "#Universal Functions\narr1 = np.array([1,2,5,4,6,2,3])\narr2 = np.array([3,4,2,1,4,1,2])\n\n#divide\nnewarr = np.divide(arr1, arr2)\nprint(newarr)\n\n#mod\nprint(np.mod(arr1,arr2))\n\n#remainder\nnewarr = np.remainder(arr1, arr2)\nprint(newarr)\n\n#absolute\narr = np.array([-1, -2, 1, 2, 3, -4])\nnewarr=np.absolute(arr)\nprint(newarr)\n\n#trunc\narr = np.trunc([-3.14, 6.1111])\nprint(arr)\n\n#exp\n#pow\n#divmod\n\n#around\narr = np.around(3.1666, 2)\nprint(arr)\n\n#fix\narr = np.fix([-3.14, 4.6667])\nprint(arr)\n\n#floor\narr = np.floor([-3.14, 4.6667])\nprint(arr)\n\n#ceil\narr = np.ceil([-3.14, 4.6667])\nprint(arr)\n\n#gcd\nnum1=365\nnum2=14\nx = np.gcd(num1, num2)\nprint(x)\n\n#gcd.reduce\narr = np.array([20, 8, 32, 36, 16])\nx = np.gcd.reduce(arr)\nprint(x)\n\n#log\nprint(np.log(arr))\n\n#log10\nprint(np.log10(arr))\n\n#log2\nprint(np.log2(arr))",
      "metadata": {
        "trusted": true
      },
      "execution_count": 81,
      "outputs": [
        {
          "name": "stdout",
          "text": "[0.33333333 0.5        2.5        4.         1.5        2.\n 1.5       ]\n[1 2 1 0 2 0 1]\n[1 2 1 0 2 0 1]\n[1 2 1 2 3 4]\n[-3.  6.]\n3.17\n[-3.  4.]\n[-4.  4.]\n[-3.  5.]\n1\n4\n[2.99573227 2.07944154 3.4657359  3.58351894 2.77258872]\n[1.30103    0.90308999 1.50514998 1.5563025  1.20411998]\n[4.32192809 3.         5.         5.169925   4.        ]\n",
          "output_type": "stream"
        }
      ]
    },
    {
      "cell_type": "code",
      "source": "",
      "metadata": {},
      "execution_count": null,
      "outputs": []
    },
    {
      "cell_type": "code",
      "source": "",
      "metadata": {},
      "execution_count": null,
      "outputs": []
    }
  ]
}