{
 "cells": [
  {
   "cell_type": "markdown",
   "id": "eacf44f8",
   "metadata": {},
   "source": [
    "# Linear Algebra in Scipy  (22MIA1064 Y@sir Ahmad)  \n",
    "\n",
    "Scipy can be used to do linear algebra, but numpy needs to be imported first   \n"
   ]
  },
  {
   "cell_type": "code",
   "execution_count": 2,
   "id": "0e7a8b66",
   "metadata": {},
   "outputs": [],
   "source": [
    "import numpy as np"
   ]
  },
  {
   "cell_type": "code",
   "execution_count": 3,
   "id": "9196fc58",
   "metadata": {},
   "outputs": [],
   "source": [
    "import scipy"
   ]
  },
  {
   "cell_type": "markdown",
   "id": "c6a63083",
   "metadata": {},
   "source": [
    "## Solve linear equations"
   ]
  },
  {
   "cell_type": "code",
   "execution_count": 4,
   "id": "67226467",
   "metadata": {},
   "outputs": [],
   "source": [
    "a = np.array([[7,2],[4,5]])\n",
    "b = np.array([8,10])"
   ]
  },
  {
   "cell_type": "code",
   "execution_count": 5,
   "id": "3f4b2e4b",
   "metadata": {},
   "outputs": [],
   "source": [
    "res = scipy.linalg.solve(a,b)"
   ]
  },
  {
   "cell_type": "code",
   "execution_count": 6,
   "id": "79b15db0",
   "metadata": {},
   "outputs": [
    {
     "data": {
      "text/plain": [
       "array([0.74074074, 1.40740741])"
      ]
     },
     "execution_count": 6,
     "metadata": {},
     "output_type": "execute_result"
    }
   ],
   "source": [
    "res"
   ]
  },
  {
   "cell_type": "markdown",
   "id": "4ebd209d",
   "metadata": {},
   "source": [
    "## Eigen Values and functions"
   ]
  },
  {
   "cell_type": "code",
   "execution_count": 7,
   "id": "9d6b3531",
   "metadata": {},
   "outputs": [
    {
     "data": {
      "text/plain": [
       "(array([9.+0.j, 3.+0.j]),\n",
       " array([[ 0.70710678, -0.4472136 ],\n",
       "        [ 0.70710678,  0.89442719]]))"
      ]
     },
     "execution_count": 7,
     "metadata": {},
     "output_type": "execute_result"
    }
   ],
   "source": [
    "scipy.linalg.eig(a)"
   ]
  },
  {
   "cell_type": "markdown",
   "id": "c7a388b0",
   "metadata": {},
   "source": [
    "## Singular Value Decomposition   \n",
    "method for reducing matrix into its constituent parts to make specific subscequent matrix calculations simpler."
   ]
  },
  {
   "cell_type": "code",
   "execution_count": 10,
   "id": "55ce1b11",
   "metadata": {},
   "outputs": [],
   "source": [
    "a,b,c = scipy.linalg.svd(np.matrix(res))"
   ]
  },
  {
   "cell_type": "code",
   "execution_count": 11,
   "id": "e7059733",
   "metadata": {},
   "outputs": [
    {
     "data": {
      "text/plain": [
       "(array([[-1.]]),\n",
       " array([1.59043782]),\n",
       " array([[-0.46574643, -0.88491822],\n",
       "        [-0.88491822,  0.46574643]]))"
      ]
     },
     "execution_count": 11,
     "metadata": {},
     "output_type": "execute_result"
    }
   ],
   "source": [
    "a,b,c"
   ]
  },
  {
   "cell_type": "code",
   "execution_count": null,
   "id": "3dbbd564",
   "metadata": {},
   "outputs": [],
   "source": []
  }
 ],
 "metadata": {
  "kernelspec": {
   "display_name": "Python 3 (ipykernel)",
   "language": "python",
   "name": "python3"
  },
  "language_info": {
   "codemirror_mode": {
    "name": "ipython",
    "version": 3
   },
   "file_extension": ".py",
   "mimetype": "text/x-python",
   "name": "python",
   "nbconvert_exporter": "python",
   "pygments_lexer": "ipython3",
   "version": "3.8.10"
  }
 },
 "nbformat": 4,
 "nbformat_minor": 5
}
