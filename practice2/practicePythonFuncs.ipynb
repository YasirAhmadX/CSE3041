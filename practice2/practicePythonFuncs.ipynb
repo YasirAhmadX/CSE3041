{
 "cells": [
  {
   "cell_type": "markdown",
   "id": "b2ddb753",
   "metadata": {},
   "source": [
    "# Python Practice Q2 (Y@sir Ahmad 22MIA1064)  \n",
    "\n",
    "## Question 1 \n",
    "To reduce air pollution, private vehicles will be allowed to run on the streets on\n",
    "alternate days depending on their Vehicle Registration Number (eg. TN75AA7116).\n",
    "Given a vehicle number, write a function in python to extract the last four digits and\n",
    "apply the conditions in the given order to find the day order.  \n",
    "* If the sum of the digits is even and if the number is prime, the vehicle will run\n",
    "on Mon, Wed, Fri and Sunday  \n",
    "* Or if the product of digits is odd and the number is not prime, the vehicle will\n",
    "run on Tuesday, Thursday, Saturday and Sunday  \n",
    "* Else the vehicle will run on all the days.  \n",
    "For eg:  \n",
    "Vehicle No : TN75AA5115 will run on Tuesday, Thursday, Saturday and Sunday  \n",
    "Vehicle No: TN75AA7116 will run on all days.  \n",
    "INPUT FORMAT:   \n",
    "Enter the Vehicle No: TN75AA5115  \n",
    "OUTPUT FORMAT:  \n",
    "TN75AA5115 will run on Tuesday, Thursday, Saturday and Sunday  "
   ]
  },
  {
   "cell_type": "code",
   "execution_count": 2,
   "id": "6891d02a",
   "metadata": {},
   "outputs": [],
   "source": [
    "def isPrime(n):\n",
    "    if n< 2:\n",
    "        return False\n",
    "    else:\n",
    "        pFlag = True\n",
    "        i = 2\n",
    "        while i**2<=n and pFlag:\n",
    "            if n%i==0:\n",
    "                pFlag = False\n",
    "            i+=1\n",
    "        return pFlag"
   ]
  },
  {
   "cell_type": "code",
   "execution_count": 3,
   "id": "245d2e6b",
   "metadata": {},
   "outputs": [],
   "source": [
    "#%%debug\n",
    "#for i in range(50):\n",
    "    #print(i,isPrime(i))"
   ]
  },
  {
   "cell_type": "code",
   "execution_count": 4,
   "id": "f945b062",
   "metadata": {},
   "outputs": [],
   "source": [
    "def check(S):\n",
    "    s = S[-4:]\n",
    "    n = int(s)\n",
    "    \n",
    "    prod = 1\n",
    "    for i in s:\n",
    "        prod*=int(i)\n",
    "    sm = sum([int(i) for i in s])\n",
    "    c1 = sm%2 == 0\n",
    "    c2 = isPrime(n)\n",
    "    c3 = prod%2 == 1\n",
    "    c4 = not c2\n",
    "    \n",
    "    #ATQ\n",
    "    if c1 and c2:\n",
    "        print(f\"{S} will run on Mon, Wed, Fri and Sunday \")\n",
    "    elif c3 and c4:\n",
    "        print(f\"{S} will run on Tuesday, Thursday, Saturday and Sunday \")\n",
    "    else:\n",
    "        print(f\"{S} will run on all the days\")\n",
    "    #%%debug\n",
    "    #print(f\"s: {s}\\nn: {n}\")\n",
    "    #print(f\"sm {sm}\\nprod {prod}\\nc1 {c1}\\nc2 {c2} \\nc3 {c3}\\nc4 {c4}\")\n",
    "    "
   ]
  },
  {
   "cell_type": "code",
   "execution_count": 5,
   "id": "a3f4bd0a",
   "metadata": {},
   "outputs": [],
   "source": [
    "#%%test\n",
    "#check('TN75AA5115')\n",
    "#check('TN75AA7116')"
   ]
  },
  {
   "cell_type": "code",
   "execution_count": 6,
   "id": "05f7db38",
   "metadata": {},
   "outputs": [
    {
     "name": "stdout",
     "output_type": "stream",
     "text": [
      "Enter the License Plate number: TN75AA5115\n",
      "TN75AA5115 will run on Tuesday, Thursday, Saturday and Sunday \n"
     ]
    }
   ],
   "source": [
    "#main code\n",
    "s = input('Enter the License Plate number: ')\n",
    "check(s)"
   ]
  },
  {
   "cell_type": "markdown",
   "id": "5da9f48f",
   "metadata": {},
   "source": [
    "## Question 2  \n",
    "It is challenge to place four queens in a 4 X 4 board such that they do not attack each\n",
    "other. Given a list of positions of four queens, write a program using functions to\n",
    "determine if the board positions are solution to the problem. If it is a solution then\n",
    "print ‘NO ATTACK’ and print ‘ATTACK’ otherwise.  \n",
    "Sample Input : [(0,1), (1,3), (2,0), (3,2)]  \n",
    "Output: NO ATTACK  \n",
    "Sample Input : [(0,1), (3,3), (2,0), (3,2)]  \n",
    "Output: ATTACK  \n"
   ]
  },
  {
   "cell_type": "code",
   "execution_count": 7,
   "id": "40cca27a",
   "metadata": {},
   "outputs": [],
   "source": [
    "def diff(t:tuple):\n",
    "    return t[0]-t[1]"
   ]
  },
  {
   "cell_type": "code",
   "execution_count": 8,
   "id": "714db2f5",
   "metadata": {},
   "outputs": [],
   "source": [
    "def N_queensCheck(l:list):\n",
    "    #condition row and column check\n",
    "    for pos1 in l:\n",
    "        for pos2 in l:\n",
    "            if pos1==pos2:\n",
    "                continue\n",
    "            else:\n",
    "                if (pos1[0] == pos2[0]) or (pos1[1] == pos2[1]):\n",
    "                    return False\n",
    "            #condition: diagonal check\n",
    "            if sum(pos1)==sum(pos2) or diff(pos1)==diff(pos2):\n",
    "                return False\n",
    "    return True"
   ]
  },
  {
   "cell_type": "code",
   "execution_count": 9,
   "id": "6fd64494",
   "metadata": {},
   "outputs": [
    {
     "name": "stdout",
     "output_type": "stream",
     "text": [
      "Enter i th position of queen 1: 0\n",
      "Enter j th position of queen 1: 1\n",
      "Enter i th position of queen 2: 1\n",
      "Enter j th position of queen 2: 3\n",
      "Enter i th position of queen 3: 2\n",
      "Enter j th position of queen 3: 0\n",
      "Enter i th position of queen 4: 3\n",
      "Enter j th position of queen 4: 2\n",
      "[0, 0, 'Q', 0]\n",
      "['Q', 0, 0, 0]\n",
      "[0, 0, 0, 'Q']\n",
      "[0, 'Q', 0, 0]\n",
      "NO ATTACK\n"
     ]
    }
   ],
   "source": [
    "#main code\n",
    "M = []\n",
    "for i in range(4):\n",
    "    x = int(input('Enter i th position of queen {0}: '.format(i+1)))\n",
    "    y = int(input('Enter j th position of queen {0}: '.format(i+1)))\n",
    "    M.append((x,y))\n",
    "print(*[['Q' if (i,j) in M else 0 for i in range(4)] for j in range(4) ],sep=\"\\n\")\n",
    "\n",
    "if(N_queensCheck(M)):\n",
    "    print(\"NO ATTACK\")\n",
    "else:\n",
    "    print(\"ATTACK\")"
   ]
  },
  {
   "cell_type": "code",
   "execution_count": 10,
   "id": "7e880d8e",
   "metadata": {},
   "outputs": [],
   "source": [
    "#N_queensCheck(M)"
   ]
  },
  {
   "cell_type": "code",
   "execution_count": 11,
   "id": "fc09e85e",
   "metadata": {},
   "outputs": [],
   "source": [
    "#N_queensCheck([(0,1), (3,3), (2,0), (3,2)])"
   ]
  }
 ],
 "metadata": {
  "kernelspec": {
   "display_name": "Python 3 (ipykernel)",
   "language": "python",
   "name": "python3"
  },
  "language_info": {
   "codemirror_mode": {
    "name": "ipython",
    "version": 3
   },
   "file_extension": ".py",
   "mimetype": "text/x-python",
   "name": "python",
   "nbconvert_exporter": "python",
   "pygments_lexer": "ipython3",
   "version": "3.8.10"
  }
 },
 "nbformat": 4,
 "nbformat_minor": 5
}
