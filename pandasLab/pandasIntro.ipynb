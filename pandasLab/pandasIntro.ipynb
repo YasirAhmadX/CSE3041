{
 "cells": [
  {
   "cell_type": "markdown",
   "id": "f1f0e289",
   "metadata": {},
   "source": [
    "# Pandas  module in Python  (22MIA1064 Y@sir Ahmad)\n",
    "\n",
    "Panal Data System and **P**ython **AN**d **D**ata **A**nalysi**S**   \n",
    "\n",
    "Pandas deals with 3 data structures: \n",
    "* Series = 1D \n",
    "> 1D labeled data, homogeneous array, size immumatable\n",
    "* DataFrame = 2D \n",
    "> 2D labeled, size mutable tabular structure with potentially heterogeneous typed columns of data\n",
    "* Panel = 3D \n",
    "> \n",
    "\n"
   ]
  },
  {
   "cell_type": "code",
   "execution_count": null,
   "id": "1382acae",
   "metadata": {},
   "outputs": [],
   "source": [
    "import numpy as np\n",
    "import pandas as pd"
   ]
  },
  {
   "cell_type": "markdown",
   "id": "fbac0651",
   "metadata": {},
   "source": [
    "# Series   \n",
    "\n",
    "Creating Series using pandas series constructor  \n",
    "Syntax : `pandas.Series(data,index,dtype,copy)`  \n",
    "Help: `help(pandas.Series)`"
   ]
  },
  {
   "cell_type": "markdown",
   "id": "dc6b70a5",
   "metadata": {},
   "source": [
    "* ***Creating series from array***"
   ]
  },
  {
   "cell_type": "code",
   "execution_count": 4,
   "id": "65261ee9",
   "metadata": {},
   "outputs": [
    {
     "name": "stdout",
     "output_type": "stream",
     "text": [
      "0    10\n",
      "1    20\n",
      "2    30\n",
      "3    40\n",
      "4    50\n",
      "dtype: int64\n"
     ]
    }
   ],
   "source": [
    "\n",
    "data = np.array([10,20,30,40,50])\n",
    "ser = pd.Series(data)\n",
    "print(ser)"
   ]
  },
  {
   "cell_type": "markdown",
   "id": "d16b8f79",
   "metadata": {},
   "source": [
    "* ***Creating Series from list***"
   ]
  },
  {
   "cell_type": "code",
   "execution_count": 3,
   "id": "5bd463aa",
   "metadata": {},
   "outputs": [
    {
     "name": "stdout",
     "output_type": "stream",
     "text": [
      "0    a\n",
      "1    e\n",
      "2    i\n",
      "3    o\n",
      "4    u\n",
      "dtype: object\n"
     ]
    }
   ],
   "source": [
    "l = ['a','e','i','o','u']\n",
    "ser = pd.Series(l)\n",
    "print(ser)"
   ]
  },
  {
   "cell_type": "markdown",
   "id": "1ab4f875",
   "metadata": {},
   "source": [
    "* ***Creating Series with custom index***"
   ]
  },
  {
   "cell_type": "code",
   "execution_count": 11,
   "id": "2c1f5235",
   "metadata": {},
   "outputs": [
    {
     "data": {
      "text/plain": [
       "Maths             100\n",
       "Science            98\n",
       "Social Science     87\n",
       "Language           89\n",
       "dtype: int64"
      ]
     },
     "execution_count": 11,
     "metadata": {},
     "output_type": "execute_result"
    }
   ],
   "source": [
    "subj = [\"Maths\",\"Science\",\"Social Science\",\"Language\"]\n",
    "marks = [100,98,87,89]\n",
    "pd.Series(marks,index = subj)"
   ]
  },
  {
   "cell_type": "markdown",
   "id": "41278098",
   "metadata": {},
   "source": [
    "* ***Creating Series from dictionary***  \n",
    "    * Dictionary Key will be index"
   ]
  },
  {
   "cell_type": "code",
   "execution_count": 19,
   "id": "110b5441",
   "metadata": {},
   "outputs": [
    {
     "data": {
      "text/plain": [
       "Maths             100\n",
       "Science            98\n",
       "Social Science     87\n",
       "Language           89\n",
       "dtype: int64"
      ]
     },
     "execution_count": 19,
     "metadata": {},
     "output_type": "execute_result"
    }
   ],
   "source": [
    "sub_marks = {\"Maths\":100,\"Science\":98,\"Social Science\":87,\"Language\":89}\n",
    "pd.Series(sub_marks)"
   ]
  },
  {
   "cell_type": "markdown",
   "id": "f8a4da6d",
   "metadata": {},
   "source": [
    " *   \n",
    "    * Dictionary with custom index, index will be checked against dictionary for values"
   ]
  },
  {
   "cell_type": "code",
   "execution_count": 22,
   "id": "0022bafc",
   "metadata": {},
   "outputs": [
    {
     "data": {
      "text/plain": [
       "Maths               100.0\n",
       "Science              98.0\n",
       "Social Science       87.0\n",
       "Computer Science      NaN\n",
       "dtype: float64"
      ]
     },
     "execution_count": 22,
     "metadata": {},
     "output_type": "execute_result"
    }
   ],
   "source": [
    "subj = [\"Maths\",\"Science\",\"Social Science\",\"Computer Science\"]\n",
    "mark_series = pd.Series(sub_marks,index=subj)\n",
    "mark_series"
   ]
  },
  {
   "cell_type": "markdown",
   "id": "84f83a09",
   "metadata": {},
   "source": [
    "### Operations in Series  \n",
    "\n",
    "> **Comparisions**"
   ]
  },
  {
   "cell_type": "code",
   "execution_count": 32,
   "id": "c5011d14",
   "metadata": {},
   "outputs": [
    {
     "data": {
      "text/plain": [
       "Maths                True\n",
       "Science              True\n",
       "Social Science      False\n",
       "Computer Science    False\n",
       "dtype: bool"
      ]
     },
     "execution_count": 32,
     "metadata": {},
     "output_type": "execute_result"
    }
   ],
   "source": [
    "mark_series > 90"
   ]
  },
  {
   "cell_type": "markdown",
   "id": "36f59295",
   "metadata": {},
   "source": [
    "> **Extractions**"
   ]
  },
  {
   "cell_type": "code",
   "execution_count": 33,
   "id": "966b63df",
   "metadata": {},
   "outputs": [
    {
     "data": {
      "text/plain": [
       "Maths      100.0\n",
       "Science     98.0\n",
       "dtype: float64"
      ]
     },
     "execution_count": 33,
     "metadata": {},
     "output_type": "execute_result"
    }
   ],
   "source": [
    "mark_series[mark_series > 90]"
   ]
  },
  {
   "cell_type": "markdown",
   "id": "6fb9bfb5",
   "metadata": {},
   "source": [
    "> **Sorting**  \n",
    "`mark_series.sort_values(ascending=False)`"
   ]
  },
  {
   "cell_type": "code",
   "execution_count": 34,
   "id": "b3bf7775",
   "metadata": {},
   "outputs": [
    {
     "data": {
      "text/plain": [
       "Maths               100.0\n",
       "Science              98.0\n",
       "Social Science       87.0\n",
       "Computer Science      NaN\n",
       "dtype: float64"
      ]
     },
     "execution_count": 34,
     "metadata": {},
     "output_type": "execute_result"
    }
   ],
   "source": [
    "mark_series.sort_values(ascending=False)"
   ]
  },
  {
   "cell_type": "markdown",
   "id": "6e630a1a",
   "metadata": {},
   "source": [
    "> **Ranking**  \n",
    "`mark_series.rank(ascending=True)`"
   ]
  },
  {
   "cell_type": "code",
   "execution_count": 35,
   "id": "d8343bff",
   "metadata": {},
   "outputs": [
    {
     "data": {
      "text/plain": [
       "Maths               3.0\n",
       "Science             2.0\n",
       "Social Science      1.0\n",
       "Computer Science    NaN\n",
       "dtype: float64"
      ]
     },
     "execution_count": 35,
     "metadata": {},
     "output_type": "execute_result"
    }
   ],
   "source": [
    "mark_series.rank()"
   ]
  },
  {
   "cell_type": "markdown",
   "id": "d49af100",
   "metadata": {},
   "source": [
    "## Basic Statistics on Series"
   ]
  },
  {
   "cell_type": "markdown",
   "id": "8e2fb0a1",
   "metadata": {},
   "source": [
    "> **sum** Returns sum of all values"
   ]
  },
  {
   "cell_type": "code",
   "execution_count": 40,
   "id": "c14e375a",
   "metadata": {},
   "outputs": [
    {
     "data": {
      "text/plain": [
       "285.0"
      ]
     },
     "execution_count": 40,
     "metadata": {},
     "output_type": "execute_result"
    }
   ],
   "source": [
    "mark_series.sum()"
   ]
  },
  {
   "cell_type": "markdown",
   "id": "e85ca87a",
   "metadata": {},
   "source": [
    "> **mean** Returns mean"
   ]
  },
  {
   "cell_type": "code",
   "execution_count": 41,
   "id": "c3089467",
   "metadata": {},
   "outputs": [
    {
     "data": {
      "text/plain": [
       "95.0"
      ]
     },
     "execution_count": 41,
     "metadata": {},
     "output_type": "execute_result"
    }
   ],
   "source": [
    "mark_series.mean()"
   ]
  },
  {
   "cell_type": "markdown",
   "id": "83143f5e",
   "metadata": {},
   "source": [
    "> **median** Returns median"
   ]
  },
  {
   "cell_type": "code",
   "execution_count": 42,
   "id": "ed1199af",
   "metadata": {},
   "outputs": [
    {
     "data": {
      "text/plain": [
       "98.0"
      ]
     },
     "execution_count": 42,
     "metadata": {},
     "output_type": "execute_result"
    }
   ],
   "source": [
    "mark_series.median()"
   ]
  },
  {
   "cell_type": "markdown",
   "id": "eb3ac683",
   "metadata": {},
   "source": [
    "> **std** Returns standard deviation"
   ]
  },
  {
   "cell_type": "code",
   "execution_count": 43,
   "id": "341011cc",
   "metadata": {},
   "outputs": [
    {
     "data": {
      "text/plain": [
       "7.0"
      ]
     },
     "execution_count": 43,
     "metadata": {},
     "output_type": "execute_result"
    }
   ],
   "source": [
    "mark_series.std()"
   ]
  },
  {
   "cell_type": "markdown",
   "id": "ab217846",
   "metadata": {},
   "source": [
    "> **max** returns maximum value"
   ]
  },
  {
   "cell_type": "code",
   "execution_count": 44,
   "id": "d5d1676b",
   "metadata": {},
   "outputs": [
    {
     "data": {
      "text/plain": [
       "100.0"
      ]
     },
     "execution_count": 44,
     "metadata": {},
     "output_type": "execute_result"
    }
   ],
   "source": [
    "mark_series.max()"
   ]
  },
  {
   "cell_type": "markdown",
   "id": "bb8177c5",
   "metadata": {},
   "source": [
    "> **idx** Returns index of maximum value"
   ]
  },
  {
   "cell_type": "code",
   "execution_count": 45,
   "id": "7bf6d4bb",
   "metadata": {},
   "outputs": [
    {
     "data": {
      "text/plain": [
       "'Maths'"
      ]
     },
     "execution_count": 45,
     "metadata": {},
     "output_type": "execute_result"
    }
   ],
   "source": [
    "mark_series.idxmax()"
   ]
  },
  {
   "cell_type": "markdown",
   "id": "5ae2c763",
   "metadata": {},
   "source": [
    "> **min** Returns minimum value"
   ]
  },
  {
   "cell_type": "code",
   "execution_count": 46,
   "id": "02352f77",
   "metadata": {},
   "outputs": [
    {
     "data": {
      "text/plain": [
       "87.0"
      ]
     },
     "execution_count": 46,
     "metadata": {},
     "output_type": "execute_result"
    }
   ],
   "source": [
    "mark_series.min()"
   ]
  },
  {
   "cell_type": "markdown",
   "id": "ee3567da",
   "metadata": {},
   "source": [
    "> **idxmin** Returns index of minimum value"
   ]
  },
  {
   "cell_type": "code",
   "execution_count": 47,
   "id": "99f7614f",
   "metadata": {},
   "outputs": [
    {
     "data": {
      "text/plain": [
       "'Social Science'"
      ]
     },
     "execution_count": 47,
     "metadata": {},
     "output_type": "execute_result"
    }
   ],
   "source": [
    "mark_series.idxmin()"
   ]
  },
  {
   "cell_type": "markdown",
   "id": "6830d47d",
   "metadata": {},
   "source": [
    "> **count** counts not null values"
   ]
  },
  {
   "cell_type": "code",
   "execution_count": 48,
   "id": "241cef2d",
   "metadata": {},
   "outputs": [
    {
     "data": {
      "text/plain": [
       "3"
      ]
     },
     "execution_count": 48,
     "metadata": {},
     "output_type": "execute_result"
    }
   ],
   "source": [
    "mark_series.count()"
   ]
  },
  {
   "cell_type": "markdown",
   "id": "3e41a19c",
   "metadata": {},
   "source": [
    "### Summary statistics  \n",
    "> **describe** summary statistic of Series"
   ]
  },
  {
   "cell_type": "code",
   "execution_count": 50,
   "id": "53873c59",
   "metadata": {},
   "outputs": [
    {
     "data": {
      "text/plain": [
       "count      3.0\n",
       "mean      95.0\n",
       "std        7.0\n",
       "min       87.0\n",
       "25%       92.5\n",
       "50%       98.0\n",
       "75%       99.0\n",
       "max      100.0\n",
       "dtype: float64"
      ]
     },
     "execution_count": 50,
     "metadata": {},
     "output_type": "execute_result"
    }
   ],
   "source": [
    "mark_series.describe()"
   ]
  },
  {
   "cell_type": "markdown",
   "id": "314122d9",
   "metadata": {},
   "source": [
    "> **value_counts** returns frequency table"
   ]
  },
  {
   "cell_type": "code",
   "execution_count": 53,
   "id": "e6513366",
   "metadata": {},
   "outputs": [
    {
     "data": {
      "text/plain": [
       "100.0    1\n",
       "98.0     1\n",
       "87.0     1\n",
       "dtype: int64"
      ]
     },
     "execution_count": 53,
     "metadata": {},
     "output_type": "execute_result"
    }
   ],
   "source": [
    "mark_series.value_counts()"
   ]
  },
  {
   "cell_type": "markdown",
   "id": "de055ed8",
   "metadata": {},
   "source": [
    "> **dropna** Drop NaN values (Null values)"
   ]
  },
  {
   "cell_type": "code",
   "execution_count": 54,
   "id": "d4c32418",
   "metadata": {},
   "outputs": [
    {
     "data": {
      "text/plain": [
       "Maths             100.0\n",
       "Science            98.0\n",
       "Social Science     87.0\n",
       "dtype: float64"
      ]
     },
     "execution_count": 54,
     "metadata": {},
     "output_type": "execute_result"
    }
   ],
   "source": [
    "mark_series.dropna()"
   ]
  },
  {
   "cell_type": "markdown",
   "id": "8bde0e56",
   "metadata": {},
   "source": [
    "### Accessing data"
   ]
  },
  {
   "cell_type": "markdown",
   "id": "cba7d83b",
   "metadata": {},
   "source": [
    "> **iloc** index location; argument : index value, returns value"
   ]
  },
  {
   "cell_type": "code",
   "execution_count": 59,
   "id": "dd10ed37",
   "metadata": {},
   "outputs": [
    {
     "data": {
      "text/plain": [
       "87.0"
      ]
     },
     "execution_count": 59,
     "metadata": {},
     "output_type": "execute_result"
    }
   ],
   "source": [
    "mark_series.iloc[2]"
   ]
  },
  {
   "cell_type": "markdown",
   "id": "96ccbddb",
   "metadata": {},
   "source": [
    "> **loc** location; argument : index name, return name"
   ]
  },
  {
   "cell_type": "code",
   "execution_count": 61,
   "id": "287848b8",
   "metadata": {},
   "outputs": [
    {
     "data": {
      "text/plain": [
       "98.0"
      ]
     },
     "execution_count": 61,
     "metadata": {},
     "output_type": "execute_result"
    }
   ],
   "source": [
    "mark_series.loc[\"Science\"]"
   ]
  },
  {
   "cell_type": "markdown",
   "id": "7ac66c7e",
   "metadata": {},
   "source": [
    "#### Slicing\n",
    "> `marks_series.iloc[start:stop:step]`"
   ]
  },
  {
   "cell_type": "code",
   "execution_count": 65,
   "id": "81072d54",
   "metadata": {},
   "outputs": [
    {
     "data": {
      "text/plain": [
       "Maths      100.0\n",
       "Science     98.0\n",
       "dtype: float64"
      ]
     },
     "execution_count": 65,
     "metadata": {},
     "output_type": "execute_result"
    }
   ],
   "source": [
    "mark_series.iloc[:2]"
   ]
  },
  {
   "cell_type": "markdown",
   "id": "708f3595",
   "metadata": {},
   "source": [
    "# DataFrame  \n",
    "A Data Frame is a 2D data structure, i.e. data is aligned in a tabular fashion in rows and columns.\n",
    "* Potentially columns are of different types\n",
    "* Size - mutable\n",
    "* Labeled axes (rows and columns)\n",
    "* Can Perform Arithmetic operations on rows and columns   \n",
    "\n",
    "**Syntax**:\n",
    "> `pd.DataFrame(data,index,column,dtype,copy)`  \n",
    "\n",
    "* **Creating DataFrame form lists**"
   ]
  },
  {
   "cell_type": "code",
   "execution_count": 67,
   "id": "425308f0",
   "metadata": {},
   "outputs": [
    {
     "name": "stdout",
     "output_type": "stream",
     "text": [
      "Empty DataFrame\n",
      "Columns: []\n",
      "Index: []\n"
     ]
    }
   ],
   "source": [
    "df = pd.DataFrame() #empty\n",
    "print(df)"
   ]
  },
  {
   "cell_type": "code",
   "execution_count": 68,
   "id": "bfa0c824",
   "metadata": {},
   "outputs": [
    {
     "data": {
      "text/html": [
       "<div>\n",
       "<style scoped>\n",
       "    .dataframe tbody tr th:only-of-type {\n",
       "        vertical-align: middle;\n",
       "    }\n",
       "\n",
       "    .dataframe tbody tr th {\n",
       "        vertical-align: top;\n",
       "    }\n",
       "\n",
       "    .dataframe thead th {\n",
       "        text-align: right;\n",
       "    }\n",
       "</style>\n",
       "<table border=\"1\" class=\"dataframe\">\n",
       "  <thead>\n",
       "    <tr style=\"text-align: right;\">\n",
       "      <th></th>\n",
       "      <th>Name</th>\n",
       "      <th>Age</th>\n",
       "      <th>Gender</th>\n",
       "    </tr>\n",
       "  </thead>\n",
       "  <tbody>\n",
       "    <tr>\n",
       "      <th>0</th>\n",
       "      <td>Ankit</td>\n",
       "      <td>19</td>\n",
       "      <td>M</td>\n",
       "    </tr>\n",
       "    <tr>\n",
       "      <th>1</th>\n",
       "      <td>Ankita</td>\n",
       "      <td>18</td>\n",
       "      <td>F</td>\n",
       "    </tr>\n",
       "    <tr>\n",
       "      <th>2</th>\n",
       "      <td>Yashvardhan</td>\n",
       "      <td>20</td>\n",
       "      <td>M</td>\n",
       "    </tr>\n",
       "  </tbody>\n",
       "</table>\n",
       "</div>"
      ],
      "text/plain": [
       "          Name  Age Gender\n",
       "0        Ankit   19      M\n",
       "1       Ankita   18      F\n",
       "2  Yashvardhan   20      M"
      ]
     },
     "execution_count": 68,
     "metadata": {},
     "output_type": "execute_result"
    }
   ],
   "source": [
    "#append columns to an empty DataFrame\n",
    "df[\"Name\"] = [\"Ankit\",\"Ankita\",\"Yashvardhan\"]\n",
    "df[\"Age\"] = [19,18,20]\n",
    "df[\"Gender\"] = ['M','F','M']\n",
    "df"
   ]
  },
  {
   "cell_type": "markdown",
   "id": "dd882348",
   "metadata": {},
   "source": []
  }
 ],
 "metadata": {
  "kernelspec": {
   "display_name": "Python 3 (ipykernel)",
   "language": "python",
   "name": "python3"
  },
  "language_info": {
   "codemirror_mode": {
    "name": "ipython",
    "version": 3
   },
   "file_extension": ".py",
   "mimetype": "text/x-python",
   "name": "python",
   "nbconvert_exporter": "python",
   "pygments_lexer": "ipython3",
   "version": "3.8.10"
  }
 },
 "nbformat": 4,
 "nbformat_minor": 5
}
