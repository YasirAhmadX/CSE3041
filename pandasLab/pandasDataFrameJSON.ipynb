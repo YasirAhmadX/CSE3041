{
 "cells": [
  {
   "cell_type": "markdown",
   "id": "89398825",
   "metadata": {},
   "source": [
    "# Pandas DataFrame (Y@sir Ahmad 22MIA1064)  \n",
    "\n",
    "## Working with JSPN - JavaScript Object Notation   \n",
    "   \n",
    "JSON files basically are a string text of dictionary. \n",
    "\n",
    "> `'{\"name\":\"John\",\"age\":30}'` "
   ]
  },
  {
   "cell_type": "code",
   "execution_count": 1,
   "id": "33bf4286",
   "metadata": {},
   "outputs": [],
   "source": [
    "import json\n",
    "import numpy as np\n",
    "import pandas as pd"
   ]
  },
  {
   "cell_type": "markdown",
   "id": "cb65d2c8",
   "metadata": {},
   "source": [
    "### To read JSON file from a string  \n",
    "Create string of dictionary and use `json.loads()`"
   ]
  },
  {
   "cell_type": "code",
   "execution_count": 3,
   "id": "8c6850c1",
   "metadata": {},
   "outputs": [
    {
     "data": {
      "text/plain": [
       "{'name': 'John', 'age': 30, 'contact': [7282569632, 9912339726]}"
      ]
     },
     "execution_count": 3,
     "metadata": {},
     "output_type": "execute_result"
    }
   ],
   "source": [
    "#JSON as string\n",
    "p = '{\"name\":\"John\",\"age\":30,\"contact\":[7282569632,9912339726]}'\n",
    "\n",
    "d = json.loads(p)\n",
    "d"
   ]
  },
  {
   "cell_type": "markdown",
   "id": "38c3fdaa",
   "metadata": {},
   "source": [
    "### To read JSON file from directory   \n",
    "Open the JSON file and use `json.load()`"
   ]
  },
  {
   "cell_type": "code",
   "execution_count": 7,
   "id": "0165e177",
   "metadata": {},
   "outputs": [
    {
     "data": {
      "text/plain": [
       "{'fruit': 'Apple', 'size': 'Large', 'color': 'Red'}"
      ]
     },
     "execution_count": 7,
     "metadata": {},
     "output_type": "execute_result"
    }
   ],
   "source": [
    "file = open('fruit.json','r')\n",
    "d2 = json.load(file)\n",
    "d2"
   ]
  },
  {
   "cell_type": "code",
   "execution_count": 8,
   "id": "1d4a48dc",
   "metadata": {},
   "outputs": [
    {
     "data": {
      "text/plain": [
       "dict"
      ]
     },
     "execution_count": 8,
     "metadata": {},
     "output_type": "execute_result"
    }
   ],
   "source": [
    "type(d2)"
   ]
  },
  {
   "cell_type": "markdown",
   "id": "9c6d18e1",
   "metadata": {},
   "source": [
    "## Saving data into JSON file"
   ]
  },
  {
   "cell_type": "code",
   "execution_count": 13,
   "id": "3859701e",
   "metadata": {},
   "outputs": [
    {
     "data": {
      "text/plain": [
       "'{\"name\": \"Alex\", \"age\": 30, \"contact\": [7282569632, 9912339726]}'"
      ]
     },
     "execution_count": 13,
     "metadata": {},
     "output_type": "execute_result"
    }
   ],
   "source": [
    "d = {\"name\": \"Alex\", \"age\": 30, \"contact\": [7282569632, 9912339726]}\n"
   ]
  },
  {
   "cell_type": "markdown",
   "id": "f308ae90",
   "metadata": {},
   "source": [
    "### To put JSON dictionary into string"
   ]
  },
  {
   "cell_type": "code",
   "execution_count": 10,
   "id": "bbedf67d",
   "metadata": {},
   "outputs": [
    {
     "data": {
      "text/plain": [
       "'{\"name\": \"John\", \"age\": 30, \"contact\": [7282569632, 9912339726]}'"
      ]
     },
     "execution_count": 10,
     "metadata": {},
     "output_type": "execute_result"
    }
   ],
   "source": [
    "dJ = json.dumps(d) #dump as string\n",
    "dJ"
   ]
  },
  {
   "cell_type": "markdown",
   "id": "5f26ff9c",
   "metadata": {},
   "source": [
    "### To put dictionary into JSON file"
   ]
  },
  {
   "cell_type": "code",
   "execution_count": 16,
   "id": "1b5227a7",
   "metadata": {},
   "outputs": [],
   "source": [
    "DumpFile = open('JSONdump.json','w')\n",
    "json.dump(d,DumpFile)\n",
    "DumpFile.close()\n"
   ]
  },
  {
   "cell_type": "markdown",
   "id": "b05be58d",
   "metadata": {},
   "source": [
    "# Read JSON file to DataFrame   \n",
    "Use `pd.read_json(filepath)` to read the JSON file into dataframe "
   ]
  },
  {
   "cell_type": "code",
   "execution_count": 19,
   "id": "498ac6e7",
   "metadata": {},
   "outputs": [],
   "source": [
    "df = pd.read_json('sampledata.json')"
   ]
  },
  {
   "cell_type": "code",
   "execution_count": 21,
   "id": "d13fb579",
   "metadata": {},
   "outputs": [
    {
     "data": {
      "text/html": [
       "<div>\n",
       "<style scoped>\n",
       "    .dataframe tbody tr th:only-of-type {\n",
       "        vertical-align: middle;\n",
       "    }\n",
       "\n",
       "    .dataframe tbody tr th {\n",
       "        vertical-align: top;\n",
       "    }\n",
       "\n",
       "    .dataframe thead th {\n",
       "        text-align: right;\n",
       "    }\n",
       "</style>\n",
       "<table border=\"1\" class=\"dataframe\">\n",
       "  <thead>\n",
       "    <tr style=\"text-align: right;\">\n",
       "      <th></th>\n",
       "      <th>Duration</th>\n",
       "      <th>Pulse</th>\n",
       "      <th>Maxpulse</th>\n",
       "      <th>Calories</th>\n",
       "    </tr>\n",
       "  </thead>\n",
       "  <tbody>\n",
       "    <tr>\n",
       "      <th>0</th>\n",
       "      <td>60</td>\n",
       "      <td>110</td>\n",
       "      <td>130</td>\n",
       "      <td>409.1</td>\n",
       "    </tr>\n",
       "    <tr>\n",
       "      <th>1</th>\n",
       "      <td>60</td>\n",
       "      <td>117</td>\n",
       "      <td>145</td>\n",
       "      <td>479.0</td>\n",
       "    </tr>\n",
       "    <tr>\n",
       "      <th>2</th>\n",
       "      <td>60</td>\n",
       "      <td>103</td>\n",
       "      <td>135</td>\n",
       "      <td>340.0</td>\n",
       "    </tr>\n",
       "    <tr>\n",
       "      <th>3</th>\n",
       "      <td>45</td>\n",
       "      <td>109</td>\n",
       "      <td>175</td>\n",
       "      <td>282.4</td>\n",
       "    </tr>\n",
       "    <tr>\n",
       "      <th>4</th>\n",
       "      <td>45</td>\n",
       "      <td>117</td>\n",
       "      <td>148</td>\n",
       "      <td>406.0</td>\n",
       "    </tr>\n",
       "    <tr>\n",
       "      <th>...</th>\n",
       "      <td>...</td>\n",
       "      <td>...</td>\n",
       "      <td>...</td>\n",
       "      <td>...</td>\n",
       "    </tr>\n",
       "    <tr>\n",
       "      <th>164</th>\n",
       "      <td>60</td>\n",
       "      <td>105</td>\n",
       "      <td>140</td>\n",
       "      <td>290.8</td>\n",
       "    </tr>\n",
       "    <tr>\n",
       "      <th>165</th>\n",
       "      <td>60</td>\n",
       "      <td>110</td>\n",
       "      <td>145</td>\n",
       "      <td>300.4</td>\n",
       "    </tr>\n",
       "    <tr>\n",
       "      <th>166</th>\n",
       "      <td>60</td>\n",
       "      <td>115</td>\n",
       "      <td>145</td>\n",
       "      <td>310.2</td>\n",
       "    </tr>\n",
       "    <tr>\n",
       "      <th>167</th>\n",
       "      <td>75</td>\n",
       "      <td>120</td>\n",
       "      <td>150</td>\n",
       "      <td>320.4</td>\n",
       "    </tr>\n",
       "    <tr>\n",
       "      <th>168</th>\n",
       "      <td>75</td>\n",
       "      <td>125</td>\n",
       "      <td>150</td>\n",
       "      <td>330.4</td>\n",
       "    </tr>\n",
       "  </tbody>\n",
       "</table>\n",
       "<p>169 rows × 4 columns</p>\n",
       "</div>"
      ],
      "text/plain": [
       "     Duration  Pulse  Maxpulse  Calories\n",
       "0          60    110       130     409.1\n",
       "1          60    117       145     479.0\n",
       "2          60    103       135     340.0\n",
       "3          45    109       175     282.4\n",
       "4          45    117       148     406.0\n",
       "..        ...    ...       ...       ...\n",
       "164        60    105       140     290.8\n",
       "165        60    110       145     300.4\n",
       "166        60    115       145     310.2\n",
       "167        75    120       150     320.4\n",
       "168        75    125       150     330.4\n",
       "\n",
       "[169 rows x 4 columns]"
      ]
     },
     "execution_count": 21,
     "metadata": {},
     "output_type": "execute_result"
    }
   ],
   "source": [
    "df\n"
   ]
  },
  {
   "cell_type": "markdown",
   "id": "97edf887",
   "metadata": {},
   "source": [
    "# Write DataFrame into JSON     \n",
    "Use `pd.to_json(filepath)` to write the DataFrame into JSON file  \n",
    "\n",
    "Formats available:   \n",
    "orient=  \n",
    "* split\n",
    "* records  \n",
    "* index  \n",
    "* values  \n",
    "* table  \n",
    "* columns  \n",
    "\n",
    "        * The format of the JSON string:\n",
    "    \n",
    "            - 'split' : dict like {'index' -> [index], 'columns' -> [columns],\n",
    "              'data' -> [values]}\n",
    "            - 'records' : list like [{column -> value}, ... , {column -> value}]\n",
    "            - 'index' : dict like {index -> {column -> value}}\n",
    "            - 'columns' : dict like {column -> {index -> value}}\n",
    "            - 'values' : just the values array\n",
    "            - 'table' : dict like {'schema': {schema}, 'data': {data}}"
   ]
  },
  {
   "cell_type": "code",
   "execution_count": 26,
   "id": "c5cc737e",
   "metadata": {
    "scrolled": true
   },
   "outputs": [
    {
     "data": {
      "text/html": [
       "<div>\n",
       "<style scoped>\n",
       "    .dataframe tbody tr th:only-of-type {\n",
       "        vertical-align: middle;\n",
       "    }\n",
       "\n",
       "    .dataframe tbody tr th {\n",
       "        vertical-align: top;\n",
       "    }\n",
       "\n",
       "    .dataframe thead th {\n",
       "        text-align: right;\n",
       "    }\n",
       "</style>\n",
       "<table border=\"1\" class=\"dataframe\">\n",
       "  <thead>\n",
       "    <tr style=\"text-align: right;\">\n",
       "      <th></th>\n",
       "      <th>Product</th>\n",
       "      <th>Price</th>\n",
       "    </tr>\n",
       "  </thead>\n",
       "  <tbody>\n",
       "    <tr>\n",
       "      <th>0</th>\n",
       "      <td>Computer</td>\n",
       "      <td>1200</td>\n",
       "    </tr>\n",
       "    <tr>\n",
       "      <th>1</th>\n",
       "      <td>Printer</td>\n",
       "      <td>200</td>\n",
       "    </tr>\n",
       "    <tr>\n",
       "      <th>2</th>\n",
       "      <td>Monitor</td>\n",
       "      <td>500</td>\n",
       "    </tr>\n",
       "    <tr>\n",
       "      <th>3</th>\n",
       "      <td>Tablet</td>\n",
       "      <td>350</td>\n",
       "    </tr>\n",
       "    <tr>\n",
       "      <th>4</th>\n",
       "      <td>Keyboard</td>\n",
       "      <td>80</td>\n",
       "    </tr>\n",
       "  </tbody>\n",
       "</table>\n",
       "</div>"
      ],
      "text/plain": [
       "    Product  Price\n",
       "0  Computer   1200\n",
       "1   Printer    200\n",
       "2   Monitor    500\n",
       "3    Tablet    350\n",
       "4  Keyboard     80"
      ]
     },
     "execution_count": 26,
     "metadata": {},
     "output_type": "execute_result"
    }
   ],
   "source": [
    "data1 = {\"Product\":[\"Computer\",\"Printer\",\"Monitor\",\"Tablet\",\"Keyboard\"], \"Price\":[1200,200,500,350,80]}\n",
    "df = pd.DataFrame(data1)\n",
    "df"
   ]
  },
  {
   "cell_type": "code",
   "execution_count": 28,
   "id": "9f0976d2",
   "metadata": {},
   "outputs": [],
   "source": [
    "df.to_json(\"exported_json.json\")"
   ]
  },
  {
   "cell_type": "code",
   "execution_count": null,
   "id": "e6010b5d",
   "metadata": {
    "scrolled": true
   },
   "outputs": [],
   "source": []
  },
  {
   "cell_type": "code",
   "execution_count": null,
   "id": "897571dd",
   "metadata": {},
   "outputs": [],
   "source": []
  }
 ],
 "metadata": {
  "kernelspec": {
   "display_name": "Python 3 (ipykernel)",
   "language": "python",
   "name": "python3"
  },
  "language_info": {
   "codemirror_mode": {
    "name": "ipython",
    "version": 3
   },
   "file_extension": ".py",
   "mimetype": "text/x-python",
   "name": "python",
   "nbconvert_exporter": "python",
   "pygments_lexer": "ipython3",
   "version": "3.8.10"
  }
 },
 "nbformat": 4,
 "nbformat_minor": 5
}
